{
 "cells": [
  {
   "cell_type": "code",
   "execution_count": 1,
   "metadata": {},
   "outputs": [
    {
     "name": "stdout",
     "output_type": "stream",
     "text": [
      "Collecting flask-restful\n",
      "  Downloading Flask_RESTful-0.3.10-py2.py3-none-any.whl (26 kB)\n",
      "Collecting aniso8601>=0.82\n",
      "  Downloading aniso8601-9.0.1-py2.py3-none-any.whl (52 kB)\n",
      "     ---------------------------------------- 52.8/52.8 kB 2.8 MB/s eta 0:00:00\n",
      "Collecting Flask>=0.8\n",
      "  Downloading flask-3.0.0-py3-none-any.whl (99 kB)\n",
      "     ---------------------------------------- 99.7/99.7 kB 2.9 MB/s eta 0:00:00\n",
      "Requirement already satisfied: six>=1.3.0 in e:\\main project\\backend\\env\\lib\\site-packages (from flask-restful) (1.16.0)\n",
      "Collecting pytz\n",
      "  Downloading pytz-2023.3.post1-py2.py3-none-any.whl (502 kB)\n",
      "     -------------------------------------- 502.5/502.5 kB 2.2 MB/s eta 0:00:00\n",
      "Collecting Werkzeug>=3.0.0\n",
      "  Downloading werkzeug-3.0.1-py3-none-any.whl (226 kB)\n",
      "     -------------------------------------- 226.7/226.7 kB 2.3 MB/s eta 0:00:00\n",
      "Collecting Jinja2>=3.1.2\n",
      "  Using cached Jinja2-3.1.2-py3-none-any.whl (133 kB)\n",
      "Collecting itsdangerous>=2.1.2\n",
      "  Using cached itsdangerous-2.1.2-py3-none-any.whl (15 kB)\n",
      "Collecting click>=8.1.3\n",
      "  Downloading click-8.1.7-py3-none-any.whl (97 kB)\n",
      "     ---------------------------------------- 97.9/97.9 kB 2.8 MB/s eta 0:00:00\n",
      "Collecting blinker>=1.6.2\n",
      "  Downloading blinker-1.7.0-py3-none-any.whl (13 kB)\n",
      "Requirement already satisfied: colorama in e:\\main project\\backend\\env\\lib\\site-packages (from click>=8.1.3->Flask>=0.8->flask-restful) (0.4.6)\n",
      "Collecting MarkupSafe>=2.0\n",
      "  Using cached MarkupSafe-2.1.3-cp311-cp311-win_amd64.whl (17 kB)\n",
      "Installing collected packages: pytz, aniso8601, MarkupSafe, itsdangerous, click, blinker, Werkzeug, Jinja2, Flask, flask-restful\n",
      "Successfully installed Flask-3.0.0 Jinja2-3.1.2 MarkupSafe-2.1.3 Werkzeug-3.0.1 aniso8601-9.0.1 blinker-1.7.0 click-8.1.7 flask-restful-0.3.10 itsdangerous-2.1.2 pytz-2023.3.post1\n",
      "Note: you may need to restart the kernel to use updated packages.\n"
     ]
    },
    {
     "name": "stderr",
     "output_type": "stream",
     "text": [
      "\n",
      "[notice] A new release of pip available: 22.3.1 -> 23.3.1\n",
      "[notice] To update, run: python.exe -m pip install --upgrade pip\n"
     ]
    }
   ],
   "source": [
    "%pip install flask-restful"
   ]
  }
 ],
 "metadata": {
  "kernelspec": {
   "display_name": "env",
   "language": "python",
   "name": "python3"
  },
  "language_info": {
   "codemirror_mode": {
    "name": "ipython",
    "version": 3
   },
   "file_extension": ".py",
   "mimetype": "text/x-python",
   "name": "python",
   "nbconvert_exporter": "python",
   "pygments_lexer": "ipython3",
   "version": "3.11.3"
  }
 },
 "nbformat": 4,
 "nbformat_minor": 2
}
